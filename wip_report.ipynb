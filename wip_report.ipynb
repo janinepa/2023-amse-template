{
 "cells": [
  {
   "attachments": {},
   "cell_type": "markdown",
   "metadata": {},
   "source": [
    "# Report: Train delay and weather correlation in germany"
   ]
  },
  {
   "attachments": {},
   "cell_type": "markdown",
   "metadata": {},
   "source": [
    "## 1. Project Idea\n",
    " (data science question )\n",
    "\n",
    "What? try to find correlation between wateher and train delays \n",
    "\n",
    "Why? Planning more efficiently, prediction \n",
    "\n",
    "The question the followong report is trying to answer is: "
   ]
  },
  {
   "attachments": {},
   "cell_type": "markdown",
   "metadata": {},
   "source": [
    "## 2. Data sources und Data pipeline \n",
    "Data from Mobilithek (link) is used to show train delays.\n",
    "\n",
    "db api timetables: info und licence \n",
    "\n",
    "full changes \n",
    "\n",
    "bulk weather\n",
    "\n",
    "Pipeline: get all stations, get all train delays for station \n",
    "get all weather station, get all data for stations,\n",
    "match both"
   ]
  },
  {
   "attachments": {},
   "cell_type": "markdown",
   "metadata": {},
   "source": [
    "## 3. Main Problems and Minigations\n",
    "no historic data for trian delays ->  cron job \n",
    "\n",
    "weird xml -> only departure data \n",
    "\n",
    "no geo info for stations -> match by string "
   ]
  },
  {
   "attachments": {},
   "cell_type": "markdown",
   "metadata": {},
   "source": [
    "## 4. Answer Data Science Question\n",
    "\n",
    "### Install dependencies\n",
    "\n",
    "### Load data\n",
    "\n",
    "### Question 1\n",
    "\n",
    "...\n",
    "\n",
    "plots for correlation\n",
    "\n",
    "map with train frewunceis \n",
    "\n",
    "train delay corrletaion by time or by weekday weekend?\n"
   ]
  },
  {
   "attachments": {},
   "cell_type": "markdown",
   "metadata": {},
   "source": [
    "## 5. Summarization \n",
    "sad because not enough data but tryed to show what i would have done with good data"
   ]
  }
 ],
 "metadata": {
  "language_info": {
   "name": "python"
  },
  "orig_nbformat": 4
 },
 "nbformat": 4,
 "nbformat_minor": 2
}
