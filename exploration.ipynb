{
 "cells": [
  {
   "attachments": {},
   "cell_type": "markdown",
   "metadata": {},
   "source": [
    "# Data Exploration\n",
    "\n",
    "In this notebook describe your data exploration steps."
   ]
  },
  {
   "attachments": {},
   "cell_type": "markdown",
   "metadata": {},
   "source": [
    "## Install dependencies"
   ]
  },
  {
   "cell_type": "code",
   "execution_count": 1,
   "metadata": {},
   "outputs": [
    {
     "name": "stdout",
     "output_type": "stream",
     "text": [
      "Requirement already satisfied: pandas in /Users/macjanine/opt/anaconda3/envs/janine/lib/python3.9/site-packages (1.4.4)\n",
      "Requirement already satisfied: python-dateutil>=2.8.1 in /Users/macjanine/opt/anaconda3/envs/janine/lib/python3.9/site-packages (from pandas) (2.8.2)\n",
      "Requirement already satisfied: pytz>=2020.1 in /Users/macjanine/opt/anaconda3/envs/janine/lib/python3.9/site-packages (from pandas) (2022.1)\n",
      "Requirement already satisfied: numpy>=1.18.5 in /Users/macjanine/opt/anaconda3/envs/janine/lib/python3.9/site-packages (from pandas) (1.21.5)\n",
      "Requirement already satisfied: six>=1.5 in /Users/macjanine/opt/anaconda3/envs/janine/lib/python3.9/site-packages (from python-dateutil>=2.8.1->pandas) (1.16.0)\n",
      "\n",
      "\u001b[1m[\u001b[0m\u001b[34;49mnotice\u001b[0m\u001b[1;39;49m]\u001b[0m\u001b[39;49m A new release of pip available: \u001b[0m\u001b[31;49m22.3.1\u001b[0m\u001b[39;49m -> \u001b[0m\u001b[32;49m23.1.1\u001b[0m\n",
      "\u001b[1m[\u001b[0m\u001b[34;49mnotice\u001b[0m\u001b[1;39;49m]\u001b[0m\u001b[39;49m To update, run: \u001b[0m\u001b[32;49mpip install --upgrade pip\u001b[0m\n",
      "Note: you may need to restart the kernel to use updated packages.\n",
      "Collecting SQLAlchemy==1.4.46\n",
      "  Downloading SQLAlchemy-1.4.46.tar.gz (8.5 MB)\n",
      "\u001b[2K     \u001b[90m━━━━━━━━━━━━━━━━━━━━━━━━━━━━━━━━━━━━━━━━\u001b[0m \u001b[32m8.5/8.5 MB\u001b[0m \u001b[31m5.7 MB/s\u001b[0m eta \u001b[36m0:00:00\u001b[0m00:01\u001b[0m00:01\u001b[0m\n",
      "\u001b[?25h  Preparing metadata (setup.py) ... \u001b[?25ldone\n",
      "\u001b[?25hRequirement already satisfied: greenlet!=0.4.17 in /Users/macjanine/opt/anaconda3/envs/janine/lib/python3.9/site-packages (from SQLAlchemy==1.4.46) (1.1.1)\n",
      "Building wheels for collected packages: SQLAlchemy\n",
      "  Building wheel for SQLAlchemy (setup.py) ... \u001b[?25ldone\n",
      "\u001b[?25h  Created wheel for SQLAlchemy: filename=SQLAlchemy-1.4.46-cp39-cp39-macosx_10_9_x86_64.whl size=1559998 sha256=bc8330ec377715c95ea8f4c270053d2f40769a73548ff4ed2916888e79eb2c56\n",
      "  Stored in directory: /Users/macjanine/Library/Caches/pip/wheels/2e/7a/c5/c4adc0fde658e83ef6ece76c8a7f115fc378c85774d9e5fd42\n",
      "Successfully built SQLAlchemy\n",
      "Installing collected packages: SQLAlchemy\n",
      "  Attempting uninstall: SQLAlchemy\n",
      "    Found existing installation: SQLAlchemy 1.4.39\n",
      "    Uninstalling SQLAlchemy-1.4.39:\n",
      "      Successfully uninstalled SQLAlchemy-1.4.39\n",
      "Successfully installed SQLAlchemy-1.4.46\n",
      "\n",
      "\u001b[1m[\u001b[0m\u001b[34;49mnotice\u001b[0m\u001b[1;39;49m]\u001b[0m\u001b[39;49m A new release of pip available: \u001b[0m\u001b[31;49m22.3.1\u001b[0m\u001b[39;49m -> \u001b[0m\u001b[32;49m23.1.1\u001b[0m\n",
      "\u001b[1m[\u001b[0m\u001b[34;49mnotice\u001b[0m\u001b[1;39;49m]\u001b[0m\u001b[39;49m To update, run: \u001b[0m\u001b[32;49mpip install --upgrade pip\u001b[0m\n",
      "Note: you may need to restart the kernel to use updated packages.\n"
     ]
    }
   ],
   "source": [
    "%pip install pandas\n",
    "%pip install 'SQLAlchemy==1.4.46'"
   ]
  },
  {
   "attachments": {},
   "cell_type": "markdown",
   "metadata": {},
   "source": [
    "## Load data"
   ]
  },
  {
   "cell_type": "code",
   "execution_count": 2,
   "metadata": {},
   "outputs": [],
   "source": [
    "import pandas as pd\n",
    "\n",
    "df = pd.read_sql_table('trainstops', 'sqlite:///data.sqlite')"
   ]
  },
  {
   "attachments": {},
   "cell_type": "markdown",
   "metadata": {},
   "source": [
    "### Look at the first rows"
   ]
  },
  {
   "cell_type": "code",
   "execution_count": 3,
   "metadata": {},
   "outputs": [
    {
     "data": {
      "text/html": [
       "<div>\n",
       "<style scoped>\n",
       "    .dataframe tbody tr th:only-of-type {\n",
       "        vertical-align: middle;\n",
       "    }\n",
       "\n",
       "    .dataframe tbody tr th {\n",
       "        vertical-align: top;\n",
       "    }\n",
       "\n",
       "    .dataframe thead th {\n",
       "        text-align: right;\n",
       "    }\n",
       "</style>\n",
       "<table border=\"1\" class=\"dataframe\">\n",
       "  <thead>\n",
       "    <tr style=\"text-align: right;\">\n",
       "      <th></th>\n",
       "      <th>EVA_NR</th>\n",
       "      <th>DS100</th>\n",
       "      <th>IFOPT</th>\n",
       "      <th>NAME</th>\n",
       "      <th>Verkehr</th>\n",
       "      <th>Laenge</th>\n",
       "      <th>Breite</th>\n",
       "      <th>Betreiber_Name</th>\n",
       "      <th>Betreiber_Nr</th>\n",
       "      <th>Status</th>\n",
       "    </tr>\n",
       "  </thead>\n",
       "  <tbody>\n",
       "    <tr>\n",
       "      <th>0</th>\n",
       "      <td>8002551</td>\n",
       "      <td>AELB</td>\n",
       "      <td>de:02000:11943</td>\n",
       "      <td>Hamburg Elbbrücken</td>\n",
       "      <td>RV</td>\n",
       "      <td>10.024500</td>\n",
       "      <td>53.534500</td>\n",
       "      <td>DB Station und Service AG</td>\n",
       "      <td>NaN</td>\n",
       "      <td>neu</td>\n",
       "    </tr>\n",
       "    <tr>\n",
       "      <th>1</th>\n",
       "      <td>8001944</td>\n",
       "      <td>TETN</td>\n",
       "      <td>None</td>\n",
       "      <td>Eutingen Nord</td>\n",
       "      <td>RV</td>\n",
       "      <td>8.753100</td>\n",
       "      <td>48.484700</td>\n",
       "      <td>DB Station und Service AG</td>\n",
       "      <td>NaN</td>\n",
       "      <td>neu</td>\n",
       "    </tr>\n",
       "    <tr>\n",
       "      <th>2</th>\n",
       "      <td>8003074</td>\n",
       "      <td>MIA</td>\n",
       "      <td>None</td>\n",
       "      <td>Ingolstadt Audi</td>\n",
       "      <td>RV</td>\n",
       "      <td>11.407456</td>\n",
       "      <td>48.790496</td>\n",
       "      <td>DB Station und Service AG</td>\n",
       "      <td>NaN</td>\n",
       "      <td>neu</td>\n",
       "    </tr>\n",
       "    <tr>\n",
       "      <th>3</th>\n",
       "      <td>8001723</td>\n",
       "      <td>HEBA</td>\n",
       "      <td>None</td>\n",
       "      <td>Einbeck Otto-Hahn-Straße</td>\n",
       "      <td>RV</td>\n",
       "      <td>9.892910</td>\n",
       "      <td>51.814478</td>\n",
       "      <td>Ilmebahn GmbH</td>\n",
       "      <td>NaN</td>\n",
       "      <td>neu</td>\n",
       "    </tr>\n",
       "    <tr>\n",
       "      <th>4</th>\n",
       "      <td>8004371</td>\n",
       "      <td>KRO</td>\n",
       "      <td>None</td>\n",
       "      <td>Nörvenich-Rommelsheim</td>\n",
       "      <td>nur DPN</td>\n",
       "      <td>6.547586</td>\n",
       "      <td>50.782539</td>\n",
       "      <td>Rurtalbahn GmbH</td>\n",
       "      <td>NaN</td>\n",
       "      <td>neu</td>\n",
       "    </tr>\n",
       "    <tr>\n",
       "      <th>5</th>\n",
       "      <td>8010340</td>\n",
       "      <td>DSTR</td>\n",
       "      <td>None</td>\n",
       "      <td>Straßgräbchen-Bernsdorf</td>\n",
       "      <td>nur DPN</td>\n",
       "      <td>14.052047</td>\n",
       "      <td>51.361469</td>\n",
       "      <td>None</td>\n",
       "      <td>NaN</td>\n",
       "      <td>neu</td>\n",
       "    </tr>\n",
       "    <tr>\n",
       "      <th>6</th>\n",
       "      <td>8001510</td>\n",
       "      <td>TDSA</td>\n",
       "      <td>de:08237:8009:2</td>\n",
       "      <td>Dornstetten-Aach</td>\n",
       "      <td>RV</td>\n",
       "      <td>8.482910</td>\n",
       "      <td>48.473300</td>\n",
       "      <td>DB Station und Service AG</td>\n",
       "      <td>NaN</td>\n",
       "      <td>neu</td>\n",
       "    </tr>\n",
       "    <tr>\n",
       "      <th>7</th>\n",
       "      <td>8001966</td>\n",
       "      <td>MFOL</td>\n",
       "      <td>de:09187:90183</td>\n",
       "      <td>Feldolling</td>\n",
       "      <td>nur DPN</td>\n",
       "      <td>11.852244</td>\n",
       "      <td>47.895336</td>\n",
       "      <td>DB Station und Service AG</td>\n",
       "      <td>NaN</td>\n",
       "      <td>neu</td>\n",
       "    </tr>\n",
       "    <tr>\n",
       "      <th>8</th>\n",
       "      <td>8002060</td>\n",
       "      <td>FFGG</td>\n",
       "      <td>de:06412:11500</td>\n",
       "      <td>Frankfurt(Main)-Gateway Gardens</td>\n",
       "      <td>RV</td>\n",
       "      <td>8.594495</td>\n",
       "      <td>50.056574</td>\n",
       "      <td>DB Station und Service AG</td>\n",
       "      <td>NaN</td>\n",
       "      <td>neu</td>\n",
       "    </tr>\n",
       "    <tr>\n",
       "      <th>9</th>\n",
       "      <td>8002535</td>\n",
       "      <td>EOBG</td>\n",
       "      <td>de:05962:3517</td>\n",
       "      <td>Halver-Oberbrügge</td>\n",
       "      <td>RV</td>\n",
       "      <td>7.574042</td>\n",
       "      <td>51.191867</td>\n",
       "      <td>DB Station und Service AG</td>\n",
       "      <td>NaN</td>\n",
       "      <td>neu</td>\n",
       "    </tr>\n",
       "  </tbody>\n",
       "</table>\n",
       "</div>"
      ],
      "text/plain": [
       "    EVA_NR DS100            IFOPT                             NAME  Verkehr  \\\n",
       "0  8002551  AELB   de:02000:11943               Hamburg Elbbrücken       RV   \n",
       "1  8001944  TETN             None                    Eutingen Nord       RV   \n",
       "2  8003074   MIA             None                  Ingolstadt Audi       RV   \n",
       "3  8001723  HEBA             None         Einbeck Otto-Hahn-Straße       RV   \n",
       "4  8004371   KRO             None            Nörvenich-Rommelsheim  nur DPN   \n",
       "5  8010340  DSTR             None          Straßgräbchen-Bernsdorf  nur DPN   \n",
       "6  8001510  TDSA  de:08237:8009:2                 Dornstetten-Aach       RV   \n",
       "7  8001966  MFOL   de:09187:90183                       Feldolling  nur DPN   \n",
       "8  8002060  FFGG   de:06412:11500  Frankfurt(Main)-Gateway Gardens       RV   \n",
       "9  8002535  EOBG    de:05962:3517                Halver-Oberbrügge       RV   \n",
       "\n",
       "      Laenge     Breite             Betreiber_Name  Betreiber_Nr Status  \n",
       "0  10.024500  53.534500  DB Station und Service AG           NaN    neu  \n",
       "1   8.753100  48.484700  DB Station und Service AG           NaN    neu  \n",
       "2  11.407456  48.790496  DB Station und Service AG           NaN    neu  \n",
       "3   9.892910  51.814478              Ilmebahn GmbH           NaN    neu  \n",
       "4   6.547586  50.782539            Rurtalbahn GmbH           NaN    neu  \n",
       "5  14.052047  51.361469                       None           NaN    neu  \n",
       "6   8.482910  48.473300  DB Station und Service AG           NaN    neu  \n",
       "7  11.852244  47.895336  DB Station und Service AG           NaN    neu  \n",
       "8   8.594495  50.056574  DB Station und Service AG           NaN    neu  \n",
       "9   7.574042  51.191867  DB Station und Service AG           NaN    neu  "
      ]
     },
     "execution_count": 3,
     "metadata": {},
     "output_type": "execute_result"
    }
   ],
   "source": [
    "df.head(10)"
   ]
  },
  {
   "attachments": {},
   "cell_type": "markdown",
   "metadata": {},
   "source": [
    "### Data exploration\n",
    "Print some basic information about the data. Your data exploration would continue here."
   ]
  },
  {
   "cell_type": "code",
   "execution_count": 4,
   "metadata": {},
   "outputs": [
    {
     "name": "stdout",
     "output_type": "stream",
     "text": [
      "<class 'pandas.core.frame.DataFrame'>\n",
      "RangeIndex: 6519 entries, 0 to 6518\n",
      "Data columns (total 10 columns):\n",
      " #   Column          Non-Null Count  Dtype  \n",
      "---  ------          --------------  -----  \n",
      " 0   EVA_NR          6519 non-null   int64  \n",
      " 1   DS100           6519 non-null   object \n",
      " 2   IFOPT           6512 non-null   object \n",
      " 3   NAME            6519 non-null   object \n",
      " 4   Verkehr         6519 non-null   object \n",
      " 5   Laenge          6519 non-null   float64\n",
      " 6   Breite          6519 non-null   float64\n",
      " 7   Betreiber_Name  6517 non-null   object \n",
      " 8   Betreiber_Nr    5395 non-null   float64\n",
      " 9   Status          24 non-null     object \n",
      "dtypes: float64(3), int64(1), object(6)\n",
      "memory usage: 509.4+ KB\n"
     ]
    },
    {
     "data": {
      "text/plain": [
       "array(['neu', None], dtype=object)"
      ]
     },
     "execution_count": 4,
     "metadata": {},
     "output_type": "execute_result"
    }
   ],
   "source": [
    "df.info()\n",
    "\n",
    "df['Status'].unique()"
   ]
  }
 ],
 "metadata": {
  "kernelspec": {
   "display_name": "Python 3",
   "language": "python",
   "name": "python3"
  },
  "language_info": {
   "codemirror_mode": {
    "name": "ipython",
    "version": 3
   },
   "file_extension": ".py",
   "mimetype": "text/x-python",
   "name": "python",
   "nbconvert_exporter": "python",
   "pygments_lexer": "ipython3",
   "version": "3.9.13"
  },
  "orig_nbformat": 4
 },
 "nbformat": 4,
 "nbformat_minor": 2
}
